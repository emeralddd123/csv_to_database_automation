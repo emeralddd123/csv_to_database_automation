{
 "cells": [
  {
   "cell_type": "markdown",
   "id": "b338bb50",
   "metadata": {},
   "source": [
    "step\n",
    "-"
   ]
  },
  {
   "cell_type": "code",
   "execution_count": 35,
   "id": "3f9043ed",
   "metadata": {},
   "outputs": [],
   "source": [
    "import os\n",
    "import pandas as pd\n",
    "import numpy as np\n",
    "import psycopg2 as ps\n",
    "import glob\n",
    "from import_csv_functions import *"
   ]
  },
  {
   "cell_type": "code",
   "execution_count": 36,
   "id": "8e37646a",
   "metadata": {},
   "outputs": [],
   "source": [
    "hostname = 'localhost'\n",
    "database_name = 'test'\n",
    "user = 'postgres'\n",
    "password ='usman123'"
   ]
  },
  {
   "cell_type": "code",
   "execution_count": 37,
   "id": "def44a76",
   "metadata": {},
   "outputs": [
    {
     "name": "stdout",
     "output_type": "stream",
     "text": [
      "c:\\Users\\Usman\\Documents\\GitHub\\csv_to_database_automation\\people.csv\n",
      "c:\\Users\\Usman\\Documents\\GitHub\\csv_to_database_automation\\people_user.csv\n"
     ]
    }
   ],
   "source": [
    "data_path = os.getcwd()\n",
    "csv_files = glob.glob(os.path.join(data_path, \"*.csv\"))\n",
    "\n",
    "    #loop through the files and create the dataframe\n",
    "df = {}\n",
    "for file in csv_files:\n",
    "    try:\n",
    "        df[file] = pd.read_csv(file)\n",
    "    except UnicodeDecodeError:\n",
    "        df[file] = pd.read_csv(file) #if utf-8 encoding error\n",
    "    print(file)"
   ]
  },
  {
   "cell_type": "code",
   "execution_count": 38,
   "id": "c35a0e3e",
   "metadata": {},
   "outputs": [
    {
     "name": "stdout",
     "output_type": "stream",
     "text": [
      "opened database successfully\n"
     ]
    },
    {
     "ename": "SyntaxError",
     "evalue": "syntax error at or near \":\"\nLINE 1: drop table if exists c:_users_usman_documents_github_csv_to_...\n                              ^\n",
     "output_type": "error",
     "traceback": [
      "\u001b[1;31m---------------------------------------------------------------------------\u001b[0m",
      "\u001b[1;31mSyntaxError\u001b[0m                               Traceback (most recent call last)",
      "\u001b[1;32mc:\\Users\\Usman\\Documents\\GitHub\\csv_to_database_automation\\csv_to_db_main.ipynb Cell 5'\u001b[0m in \u001b[0;36m<cell line: 1>\u001b[1;34m()\u001b[0m\n\u001b[0;32m     <a href='vscode-notebook-cell:/c%3A/Users/Usman/Documents/GitHub/csv_to_database_automation/csv_to_db_main.ipynb#ch0000005?line=9'>10</a>\u001b[0m col_str, dataframe\u001b[39m.\u001b[39mcolumns \u001b[39m=\u001b[39m clean_colname(dataframe)\n\u001b[0;32m     <a href='vscode-notebook-cell:/c%3A/Users/Usman/Documents/GitHub/csv_to_database_automation/csv_to_db_main.ipynb#ch0000005?line=11'>12</a>\u001b[0m \u001b[39m#upload data to db   \u001b[39;00m\n\u001b[1;32m---> <a href='vscode-notebook-cell:/c%3A/Users/Usman/Documents/GitHub/csv_to_database_automation/csv_to_db_main.ipynb#ch0000005?line=12'>13</a>\u001b[0m upload_to_db(hostname, \n\u001b[0;32m     <a href='vscode-notebook-cell:/c%3A/Users/Usman/Documents/GitHub/csv_to_database_automation/csv_to_db_main.ipynb#ch0000005?line=13'>14</a>\u001b[0m              database_name, \n\u001b[0;32m     <a href='vscode-notebook-cell:/c%3A/Users/Usman/Documents/GitHub/csv_to_database_automation/csv_to_db_main.ipynb#ch0000005?line=14'>15</a>\u001b[0m              user, \n\u001b[0;32m     <a href='vscode-notebook-cell:/c%3A/Users/Usman/Documents/GitHub/csv_to_database_automation/csv_to_db_main.ipynb#ch0000005?line=15'>16</a>\u001b[0m              password, \n\u001b[0;32m     <a href='vscode-notebook-cell:/c%3A/Users/Usman/Documents/GitHub/csv_to_database_automation/csv_to_db_main.ipynb#ch0000005?line=16'>17</a>\u001b[0m              table_name, \n\u001b[0;32m     <a href='vscode-notebook-cell:/c%3A/Users/Usman/Documents/GitHub/csv_to_database_automation/csv_to_db_main.ipynb#ch0000005?line=17'>18</a>\u001b[0m              col_str, \n\u001b[0;32m     <a href='vscode-notebook-cell:/c%3A/Users/Usman/Documents/GitHub/csv_to_database_automation/csv_to_db_main.ipynb#ch0000005?line=18'>19</a>\u001b[0m              file\u001b[39m=\u001b[39;49mcsv, \n\u001b[0;32m     <a href='vscode-notebook-cell:/c%3A/Users/Usman/Documents/GitHub/csv_to_database_automation/csv_to_db_main.ipynb#ch0000005?line=19'>20</a>\u001b[0m              dataframe\u001b[39m=\u001b[39;49mdataframe, \n\u001b[0;32m     <a href='vscode-notebook-cell:/c%3A/Users/Usman/Documents/GitHub/csv_to_database_automation/csv_to_db_main.ipynb#ch0000005?line=20'>21</a>\u001b[0m              dataframe_columns\u001b[39m=\u001b[39;49mdataframe\u001b[39m.\u001b[39;49mcolumns)\n",
      "File \u001b[1;32mc:\\Users\\Usman\\Documents\\GitHub\\csv_to_database_automation\\import_csv_functions.py:83\u001b[0m, in \u001b[0;36mupload_to_db\u001b[1;34m(host, dbname, user, password, tbl_name, col_str, file, dataframe, dataframe_columns)\u001b[0m\n\u001b[0;32m     <a href='file:///c%3A/Users/Usman/Documents/GitHub/csv_to_database_automation/import_csv_functions.py?line=79'>80</a>\u001b[0m \u001b[39mprint\u001b[39m(\u001b[39m'\u001b[39m\u001b[39mopened database successfully\u001b[39m\u001b[39m'\u001b[39m)\n\u001b[0;32m     <a href='file:///c%3A/Users/Usman/Documents/GitHub/csv_to_database_automation/import_csv_functions.py?line=81'>82</a>\u001b[0m \u001b[39m#drop table with same name\u001b[39;00m\n\u001b[1;32m---> <a href='file:///c%3A/Users/Usman/Documents/GitHub/csv_to_database_automation/import_csv_functions.py?line=82'>83</a>\u001b[0m cursor\u001b[39m.\u001b[39;49mexecute(\u001b[39m\"\u001b[39;49m\u001b[39mdrop table if exists \u001b[39;49m\u001b[39m%s\u001b[39;49;00m\u001b[39m;\u001b[39;49m\u001b[39m\"\u001b[39;49m \u001b[39m%\u001b[39;49m (tbl_name))\n\u001b[0;32m     <a href='file:///c%3A/Users/Usman/Documents/GitHub/csv_to_database_automation/import_csv_functions.py?line=84'>85</a>\u001b[0m \u001b[39m#create table\u001b[39;00m\n\u001b[0;32m     <a href='file:///c%3A/Users/Usman/Documents/GitHub/csv_to_database_automation/import_csv_functions.py?line=85'>86</a>\u001b[0m cursor\u001b[39m.\u001b[39mexecute(\u001b[39m\"\u001b[39m\u001b[39mcreate table \u001b[39m\u001b[39m%s\u001b[39;00m\u001b[39m (\u001b[39m\u001b[39m%s\u001b[39;00m\u001b[39m);\u001b[39m\u001b[39m\"\u001b[39m \u001b[39m%\u001b[39m (tbl_name, col_str))\n",
      "\u001b[1;31mSyntaxError\u001b[0m: syntax error at or near \":\"\nLINE 1: drop table if exists c:_users_usman_documents_github_csv_to_...\n                              ^\n"
     ]
    }
   ],
   "source": [
    "for csv in csv_files:\n",
    "\n",
    "    #calling dataframe\n",
    "    dataframe = df[csv]\n",
    "\n",
    "    #normalizing table name\n",
    "    table_name = normalize_table_name(csv)\n",
    "\n",
    "    #clean column names\n",
    "    col_str, dataframe.columns = clean_colname(dataframe)\n",
    "\n",
    "    #upload data to db   \n",
    "    upload_to_db(hostname, \n",
    "                 database_name, \n",
    "                 user, \n",
    "                 password, \n",
    "                 table_name, \n",
    "                 col_str, \n",
    "                 file=csv, \n",
    "                 dataframe=dataframe, \n",
    "                 dataframe_columns=dataframe.columns)"
   ]
  }
 ],
 "metadata": {
  "kernelspec": {
   "display_name": "Python 3 (ipykernel)",
   "language": "python",
   "name": "python3"
  },
  "language_info": {
   "codemirror_mode": {
    "name": "ipython",
    "version": 3
   },
   "file_extension": ".py",
   "mimetype": "text/x-python",
   "name": "python",
   "nbconvert_exporter": "python",
   "pygments_lexer": "ipython3",
   "version": "3.10.1"
  }
 },
 "nbformat": 4,
 "nbformat_minor": 5
}
