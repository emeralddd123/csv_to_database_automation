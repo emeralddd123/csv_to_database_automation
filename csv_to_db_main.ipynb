{
 "cells": [
  {
   "cell_type": "markdown",
   "id": "b338bb50",
   "metadata": {},
   "source": [
    "step\n",
    "-"
   ]
  },
  {
   "cell_type": "code",
   "execution_count": 64,
   "id": "3f9043ed",
   "metadata": {},
   "outputs": [],
   "source": [
    "import os\n",
    "import pandas as pd\n",
    "import numpy as np\n",
    "import psycopg2 as ps\n",
    "import glob\n",
    "from import_csv_functions import *"
   ]
  },
  {
   "cell_type": "code",
   "execution_count": 65,
   "id": "8e37646a",
   "metadata": {},
   "outputs": [],
   "source": [
    "hostname = 'localhost'\n",
    "database_name = 'test'\n",
    "user = 'postgres'\n",
    "password ='usman123'"
   ]
  },
  {
   "cell_type": "code",
   "execution_count": 66,
   "id": "def44a76",
   "metadata": {},
   "outputs": [
    {
     "name": "stdout",
     "output_type": "stream",
     "text": [
      "people.csv\n",
      "people_user.csv\n"
     ]
    }
   ],
   "source": [
    "data_path = os.getcwd()\n",
    "csv_files = glob.glob(os.path.join(data_path, \"*.csv\"))\n",
    "\n",
    "    #loop through the files and create the dataframe\n",
    "df = {}\n",
    "csvs = []\n",
    "for file in csv_files:\n",
    "    head, file_tail = os.path.split(file)\n",
    "    \n",
    "    try:\n",
    "        df[file_tail] = pd.read_csv(file_tail)\n",
    "        csvs.append(file_tail)\n",
    "    except UnicodeDecodeError:\n",
    "        df[file_tail] = pd.read_csv(file_tail) #if utf-8 encoding error\n",
    "        csvs.append(file_tail)\n",
    "    print(file_tail)\n",
    "\n",
    "\n",
    "#for i in csvs:\n",
    "\n",
    "#csvs = pd.DataFrame()"
   ]
  },
  {
   "cell_type": "code",
   "execution_count": 67,
   "id": "fd6165e7",
   "metadata": {},
   "outputs": [
    {
     "name": "stdout",
     "output_type": "stream",
     "text": [
      "['people.csv', 'people_user.csv']\n"
     ]
    }
   ],
   "source": [
    "print(csvs)"
   ]
  },
  {
   "cell_type": "code",
   "execution_count": 68,
   "id": "c35a0e3e",
   "metadata": {},
   "outputs": [
    {
     "name": "stdout",
     "output_type": "stream",
     "text": [
      "opened database successfully\n",
      "people was created successfully\n",
      "file opened in memory\n",
      "file copied to db\n",
      "table people imported to db completed\n",
      "opened database successfully\n",
      "people_user was created successfully\n",
      "file opened in memory\n",
      "file copied to db\n",
      "table people_user imported to db completed\n"
     ]
    }
   ],
   "source": [
    "for csv in csvs:\n",
    "\n",
    "    #calling dataframe\n",
    "    dataframe = df[csv]\n",
    "\n",
    "    #normalizing table name\n",
    "    table_name = normalize_table_name(csv)\n",
    "\n",
    "    #clean column names\n",
    "    col_str, dataframe.columns = clean_colname(dataframe)\n",
    "\n",
    "    #upload data to db   \n",
    "    upload_to_db(hostname, \n",
    "                 database_name, \n",
    "                 user, \n",
    "                 password, \n",
    "                 table_name, \n",
    "                 col_str, \n",
    "                 file=csv, \n",
    "                 dataframe=dataframe, \n",
    "                 dataframe_columns=dataframe.columns)"
   ]
  }
 ],
 "metadata": {
  "kernelspec": {
   "display_name": "Python 3 (ipykernel)",
   "language": "python",
   "name": "python3"
  },
  "language_info": {
   "codemirror_mode": {
    "name": "ipython",
    "version": 3
   },
   "file_extension": ".py",
   "mimetype": "text/x-python",
   "name": "python",
   "nbconvert_exporter": "python",
   "pygments_lexer": "ipython3",
   "version": "3.10.1"
  }
 },
 "nbformat": 4,
 "nbformat_minor": 5
}
